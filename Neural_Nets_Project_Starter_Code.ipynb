{
 "cells": [
  {
   "cell_type": "markdown",
   "metadata": {},
   "source": [
    "# Gesture Recognition\n",
    "In this group project, you are going to build a 3D Conv model that will be able to predict the 5 gestures correctly. Please import the following libraries to get started."
   ]
  },
  {
   "cell_type": "code",
   "execution_count": 51,
   "metadata": {
    "collapsed": true
   },
   "outputs": [],
   "source": [
    "import numpy as np\n",
    "import os\n",
    "from scipy.misc import imread, imresize\n",
    "import datetime\n",
    "import os\n",
    "import matplotlib.pyplot as plt\n",
    "% matplotlib inline\n",
    "import skimage.transform\n",
    "import math\n",
    "\n",
    "asset_folder = \"./Project_data/\""
   ]
  },
  {
   "cell_type": "code",
   "execution_count": 2,
   "metadata": {
    "collapsed": true
   },
   "outputs": [],
   "source": [
    "# STEP 1 : Standardise and normalize image (Change Aspect ratio, Image Augmenting -> Random horizontal, Horizontal flip, Random cropping, Gausian noise adding, imageaug library, Embedding of image)\n",
    "# STEP 2 : Generator\n",
    "# STEP 3 : Architecture of Model (Dropupouts, Batch normalization, No large kernel, Increase channel gradually and Decrease image gradually simultaneously, Conv 1d -> to reduce number of parameters and depth)\n",
    "# STEP 4 : Optimizer (Reduced NR Plateu, RNS Prop, SDC + Momentum, )\n",
    "# STEP 5 : Epoch and Learning Rate (0.01, Cyclic Running rate)\n",
    "# STEP 6 : RNN (GRU + TimeDistributed)"
   ]
  },
  {
   "cell_type": "markdown",
   "metadata": {},
   "source": [
    "We set the random seed so that the results don't vary drastically."
   ]
  },
  {
   "cell_type": "code",
   "execution_count": 3,
   "metadata": {},
   "outputs": [
    {
     "name": "stderr",
     "output_type": "stream",
     "text": [
      "/Users/dev/anaconda3/lib/python3.6/site-packages/h5py/__init__.py:36: FutureWarning: Conversion of the second argument of issubdtype from `float` to `np.floating` is deprecated. In future, it will be treated as `np.float64 == np.dtype(float).type`.\n",
      "  from ._conv import register_converters as _register_converters\n",
      "Using TensorFlow backend.\n"
     ]
    }
   ],
   "source": [
    "np.random.seed(30)\n",
    "import random as rn\n",
    "rn.seed(30)\n",
    "from keras import backend as K\n",
    "import tensorflow as tf\n",
    "tf.set_random_seed(30)"
   ]
  },
  {
   "cell_type": "markdown",
   "metadata": {},
   "source": [
    "In this block, you read the folder names for training and validation. You also set the `batch_size` here. Note that you set the batch size in such a way that you are able to use the GPU in full capacity. You keep increasing the batch size until the machine throws an error."
   ]
  },
  {
   "cell_type": "code",
   "execution_count": 6,
   "metadata": {},
   "outputs": [],
   "source": [
    "train_doc = np.random.permutation(open(asset_folder + 'train.csv').readlines())\n",
    "val_doc = np.random.permutation(open(asset_folder + 'val.csv').readlines())\n",
    "batch_size = 2#experiment with the batch size"
   ]
  },
  {
   "cell_type": "code",
   "execution_count": 58,
   "metadata": {},
   "outputs": [
    {
     "name": "stdout",
     "output_type": "stream",
     "text": [
      "(120, 160, 3)\n",
      "(120, 160, 3)\n",
      "(360, 360, 3)\n",
      "(120, 160, 3)\n",
      "(120, 160, 3)\n"
     ]
    },
    {
     "name": "stderr",
     "output_type": "stream",
     "text": [
      "/Users/dev/anaconda3/lib/python3.6/site-packages/ipykernel_launcher.py:6: DeprecationWarning: `imread` is deprecated!\n",
      "`imread` is deprecated in SciPy 1.0.0, and will be removed in 1.2.0.\n",
      "Use ``imageio.imread`` instead.\n",
      "  \n"
     ]
    }
   ],
   "source": [
    "# Find all image sizes and then choose right min and max for it. Bound image and then add padding to it\n",
    "t = np.random.permutation(train_doc)\n",
    "for image_index in range(0,5):\n",
    "    folder = t[image_index].split(';')[0]\n",
    "    imgs = os.listdir(source_path+'/'+ folder)\n",
    "    image = imread(source_path+'/'+ folder+'/'+imgs[0])\n",
    "    print(image.shape)\n"
   ]
  },
  {
   "cell_type": "code",
   "execution_count": 62,
   "metadata": {
    "collapsed": true
   },
   "outputs": [],
   "source": [
    "# Functions used in app\n",
    "\n",
    "def bound_image_dim(image, min_size=None, max_size=None):\n",
    "    if (max_size is not None) and \\\n",
    "       (min_size is not None) and \\\n",
    "       (max_size < min_size):\n",
    "        raise ValueError('`max_size` must be >= to `min_size`')\n",
    "    dtype = image.dtype\n",
    "    (height, width, *_) = image.shape\n",
    "    # scale the same for both height and width for fixed aspect ratio resize\n",
    "    scale = 1\n",
    "    # bound the smallest dimension to the min_size\n",
    "    if min_size is not None:\n",
    "        image_min = min(height, width)\n",
    "        scale = max(1, min_size / image_min)\n",
    "    # next, bound the largest dimension to the max_size\n",
    "    # this must be done after bounding to the min_size\n",
    "    if max_size is not None:\n",
    "        image_max = max(height, width)\n",
    "        if round(image_max * scale) > max_size:\n",
    "            scale = max_size / image_max\n",
    "    if scale != 1:\n",
    "        image = skimage.transform.resize(\n",
    "            image, (round(height * scale), round(width * scale)),\n",
    "            order=1,\n",
    "            mode='constant',\n",
    "            preserve_range=True)\n",
    "    return image.astype(dtype)\n",
    "\n",
    "\n",
    "def square_pad_image(image, size):\n",
    "    (height, width, *_) = image.shape\n",
    "    if (size < height) or (size < width):\n",
    "        raise ValueError('`size` must be >= to image height and image width')\n",
    "    pad_height = (size - height) / 2\n",
    "    pad_top = math.floor(pad_height)\n",
    "    pad_bot = math.ceil(pad_height)\n",
    "    pad_width = (size - width) / 2\n",
    "    pad_left = math.floor(pad_width)\n",
    "    pad_right = math.ceil(pad_width)\n",
    "    return np.pad(\n",
    "        image, ((pad_top, pad_bot), (pad_left, pad_right), (0, 0)),\n",
    "        mode='constant')\n",
    "\n",
    "# Sizes found to be 120 * 160 and 360*360. \n",
    "# Experiment 1:\n",
    "# If we resize 120 * 160 to 270 * 360 and add padding center padding to it\n",
    "expected_size = 360\n",
    "def standardiseImageToSquareByAddingPadding(image, ouput_size = expected_size):\n",
    "    image = bound_image_dim(image, min_size = expected_size, max_size = expected_size)\n",
    "    image = square_pad_image(image, expected_size)\n",
    "    return image\n",
    "\n",
    "def normalizeImage(image):\n",
    "    return image/255"
   ]
  },
  {
   "cell_type": "code",
   "execution_count": 74,
   "metadata": {},
   "outputs": [
    {
     "name": "stdout",
     "output_type": "stream",
     "text": [
      "All success\n"
     ]
    },
    {
     "name": "stderr",
     "output_type": "stream",
     "text": [
      "/Users/dev/anaconda3/lib/python3.6/site-packages/ipykernel_launcher.py:6: DeprecationWarning: `imread` is deprecated!\n",
      "`imread` is deprecated in SciPy 1.0.0, and will be removed in 1.2.0.\n",
      "Use ``imageio.imread`` instead.\n",
      "  \n"
     ]
    }
   ],
   "source": [
    "# Test : standardiseImageToSquareByAddingPadding and normalizeImage\n",
    "# Find all image sizes and then choose right min and max for it. Bound image and then add padding to it\n",
    "t = np.random.permutation(train_doc)\n",
    "for image_index in range(0,5):\n",
    "    folder = t[image_index].split(';')[0]\n",
    "    imgs = os.listdir(source_path+'/'+ folder)\n",
    "    image = imread(source_path+'/'+ folder+'/'+imgs[0])\n",
    "    assert (360, 360, 3) == standardiseImageToSquareByAddingPadding(image).shape, \"shape mismatch: found is \"+str(standardiseImage(image).shape)\n",
    "    assert (1.0 >= normalizeImage(image))\n",
    "    \n",
    "print('All success')"
   ]
  },
  {
   "cell_type": "code",
   "execution_count": 107,
   "metadata": {},
   "outputs": [
    {
     "name": "stdout",
     "output_type": "stream",
     "text": [
      "0\n",
      "1\n",
      "2\n"
     ]
    }
   ],
   "source": [
    "# Test : to check if we get batch size and index the way we want\n",
    "# number_of_element_in_batch <= bs \n",
    "# index_batch from (0 to 100), unique\n",
    "input_range = range(0,3)\n",
    "folder_list = list(input_range)\n",
    "bs = 34\n",
    "for batch in range(0, len(folder_list), bs):\n",
    "    if (batch + bs) >= len(folder_list):\n",
    "        internal_batch_size = len(folder_list) - batch\n",
    "    else:\n",
    "        internal_batch_size = bs   \n",
    "    assert 0 < internal_batch_size <= bs, \"wrong calculation for internal_batch_size\"\n",
    "    for folder in range(internal_batch_size):\n",
    "        index_batch = folder + batch\n",
    "        print(index_batch)"
   ]
  },
  {
   "cell_type": "markdown",
   "metadata": {},
   "source": [
    "## Generator\n",
    "This is one of the most important part of the code. The overall structure of the generator has been given. In the generator, you are going to preprocess the images as you have images of 2 different dimensions as well as create a batch of video frames. You have to experiment with `img_idx`, `y`,`z` and normalization such that you get high accuracy."
   ]
  },
  {
   "cell_type": "code",
   "execution_count": 102,
   "metadata": {
    "collapsed": true
   },
   "outputs": [],
   "source": [
    "def generator(source_path, folder_list, batch_size):\n",
    "    print( 'Source path = ', source_path, '; batch size =', batch_size)\n",
    "    img_idx = range(1, 30, 2) #create a list of image numbers you want to use for a particular video\n",
    "    while True:\n",
    "        t = np.random.permutation(folder_list)\n",
    "        for batch in range(0, len(t), batch_size):\n",
    "            if (batch + batch_size) >= len(t):\n",
    "                internal_batch_size = len(t) - batch\n",
    "            else:\n",
    "                internal_batch_size = batch_size   \n",
    "                \n",
    "            batch_data = np.zeros((internal_batch_size,x,y,z,3)) # x is the number of images you use for each video, (y,z) is the final size of the input images and 3 is the number of channels RGB\n",
    "            batch_labels = np.zeros((internal_batch_size,5)) # batch_labels is the one hot representation of the output\n",
    "            for folder in range(internal_batch_size): # iterate over the batch_size\n",
    "                index_batch = folder + batch\n",
    "                imgs = os.listdir(source_path+'/'+ t[index_batch].split(';')[0]) # read all the images in the folder\n",
    "                for idx,item in enumerate(img_idx): #  Iterate iver the frames/images of a folder to read them in\n",
    "                    image = imread(source_path+'/'+ t[index_batch].strip().split(';')[0]+'/'+imgs[item]).astype(np.float32)\n",
    "                    #crop the images and resize them. Note that the images are of 2 different shape \n",
    "                    #and the conv3D will throw error if the inputs in a batch have different shapes\n",
    "                    image = standardiseImageToSquareByAddingPadding(image)\n",
    "                    image = normalizeImage(image)\n",
    "                    \n",
    "                    batch_data[folder,idx,:,:,0] = image[:, : , 0]#normalise and feed in the image\n",
    "                    batch_data[folder,idx,:,:,1] = image[:, : , 1]#normalise and feed in the image\n",
    "                    batch_data[folder,idx,:,:,2] = image[:, : , 2]#normalise and feed in the image\n",
    "                    \n",
    "                batch_labels[folder, int(t[index_batch].strip().split(';')[2])] = 1\n",
    "            yield batch_data, batch_labels #you yield the batch_data and the batch_labels, remember what does yield do\n",
    "\n",
    "        \n",
    "        # write the code for the remaining data points which are left after full batches\n",
    "        # NOTE : taken care in above for loop"
   ]
  },
  {
   "cell_type": "markdown",
   "metadata": {},
   "source": [
    "Note here that a video is represented above in the generator as (number of images, height, width, number of channels). Take this into consideration while creating the model architecture."
   ]
  },
  {
   "cell_type": "code",
   "execution_count": 104,
   "metadata": {},
   "outputs": [
    {
     "name": "stdout",
     "output_type": "stream",
     "text": [
      "# training sequences = 663\n",
      "# validation sequences = 100\n",
      "# epochs = 1\n"
     ]
    }
   ],
   "source": [
    "curr_dt_time = datetime.datetime.now()\n",
    "train_path = asset_folder + 'train'\n",
    "val_path = asset_folder + 'val'\n",
    "num_train_sequences = len(train_doc)\n",
    "print('# training sequences =', num_train_sequences)\n",
    "num_val_sequences = len(val_doc)\n",
    "print('# validation sequences =', num_val_sequences)\n",
    "num_epochs = 1# choose the number of epochs\n",
    "print ('# epochs =', num_epochs)"
   ]
  },
  {
   "cell_type": "markdown",
   "metadata": {},
   "source": [
    "## Model\n",
    "Here you make the model using different functionalities that Keras provides. Remember to use `Conv3D` and `MaxPooling3D` and not `Conv2D` and `Maxpooling2D` for a 3D convolution model. You would want to use `TimeDistributed` while building a Conv2D + RNN model. Also remember that the last layer is the softmax. Design the network in such a way that the model is able to give good accuracy on the least number of parameters so that it can fit in the memory of the webcam."
   ]
  },
  {
   "cell_type": "code",
   "execution_count": null,
   "metadata": {
    "collapsed": true
   },
   "outputs": [],
   "source": [
    "from keras.models import Sequential, Model\n",
    "from keras.layers import Dense, GRU, Flatten, TimeDistributed, Flatten, BatchNormalization, Activation\n",
    "from keras.layers.convolutional import Conv3D, MaxPooling3D\n",
    "from keras.callbacks import ModelCheckpoint, ReduceLROnPlateau\n",
    "from keras import optimizers\n",
    "\n",
    "#write your model here"
   ]
  },
  {
   "cell_type": "markdown",
   "metadata": {},
   "source": [
    "Now that you have written the model, the next step is to `compile` the model. When you print the `summary` of the model, you'll see the total number of parameters you have to train."
   ]
  },
  {
   "cell_type": "code",
   "execution_count": null,
   "metadata": {
    "collapsed": true,
    "scrolled": true
   },
   "outputs": [],
   "source": [
    "optimiser = #write your optimizer momentum\n",
    "model.compile(optimizer=optimiser, loss='categorical_crossentropy', metrics=['categorical_accuracy'])\n",
    "print (model.summary())"
   ]
  },
  {
   "cell_type": "markdown",
   "metadata": {},
   "source": [
    "Let us create the `train_generator` and the `val_generator` which will be used in `.fit_generator`."
   ]
  },
  {
   "cell_type": "code",
   "execution_count": null,
   "metadata": {
    "collapsed": true
   },
   "outputs": [],
   "source": [
    "train_generator = generator(train_path, train_doc, batch_size)\n",
    "val_generator = generator(val_path, val_doc, batch_size)"
   ]
  },
  {
   "cell_type": "code",
   "execution_count": null,
   "metadata": {
    "collapsed": true
   },
   "outputs": [],
   "source": [
    "model_name = 'model_init' + '_' + str(curr_dt_time).replace(' ','').replace(':','_') + '/'\n",
    "    \n",
    "if not os.path.exists(model_name):\n",
    "    os.mkdir(model_name)\n",
    "        \n",
    "filepath = model_name + 'model-{epoch:05d}-{loss:.5f}-{categorical_accuracy:.5f}-{val_loss:.5f}-{val_categorical_accuracy:.5f}.h5'\n",
    "\n",
    "checkpoint = ModelCheckpoint(filepath, monitor='val_loss', verbose=1, save_best_only=False, save_weights_only=False, mode='auto', period=1)\n",
    "\n",
    "LR = # write the REducelronplateau code here\n",
    "callbacks_list = [checkpoint, LR]"
   ]
  },
  {
   "cell_type": "markdown",
   "metadata": {},
   "source": [
    "The `steps_per_epoch` and `validation_steps` are used by `fit_generator` to decide the number of next() calls it need to make."
   ]
  },
  {
   "cell_type": "code",
   "execution_count": null,
   "metadata": {
    "collapsed": true
   },
   "outputs": [],
   "source": [
    "if (num_train_sequences%batch_size) == 0:\n",
    "    steps_per_epoch = int(num_train_sequences/batch_size)\n",
    "else:\n",
    "    steps_per_epoch = (num_train_sequences//batch_size) + 1\n",
    "\n",
    "if (num_val_sequences%batch_size) == 0:\n",
    "    validation_steps = int(num_val_sequences/batch_size)\n",
    "else:\n",
    "    validation_steps = (num_val_sequences//batch_size) + 1"
   ]
  },
  {
   "cell_type": "markdown",
   "metadata": {},
   "source": [
    "Let us now fit the model. This will start training the model and with the help of the checkpoints, you'll be able to save the model at the end of each epoch."
   ]
  },
  {
   "cell_type": "code",
   "execution_count": null,
   "metadata": {
    "collapsed": true
   },
   "outputs": [],
   "source": [
    "model.fit_generator(train_generator, steps_per_epoch=steps_per_epoch, epochs=num_epochs, verbose=1, \n",
    "                    callbacks=callbacks_list, validation_data=val_generator, \n",
    "                    validation_steps=validation_steps, class_weight=None, workers=1, initial_epoch=0)"
   ]
  },
  {
   "cell_type": "code",
   "execution_count": null,
   "metadata": {
    "collapsed": true
   },
   "outputs": [],
   "source": []
  }
 ],
 "metadata": {
  "kernelspec": {
   "display_name": "Python 3",
   "language": "python",
   "name": "python3"
  },
  "language_info": {
   "codemirror_mode": {
    "name": "ipython",
    "version": 3
   },
   "file_extension": ".py",
   "mimetype": "text/x-python",
   "name": "python",
   "nbconvert_exporter": "python",
   "pygments_lexer": "ipython3",
   "version": "3.6.3"
  }
 },
 "nbformat": 4,
 "nbformat_minor": 2
}
